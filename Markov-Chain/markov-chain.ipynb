{
 "cells": [
  {
   "cell_type": "code",
   "execution_count": 1,
   "id": "b5bb9930",
   "metadata": {},
   "outputs": [
    {
     "name": "stdout",
     "output_type": "stream",
     "text": [
      "Requirement already satisfied: numpy in c:\\users\\user\\appdata\\local\\programs\\python\\python312\\lib\\site-packages (2.3.3)\n",
      "Note: you may need to restart the kernel to use updated packages.\n"
     ]
    },
    {
     "name": "stderr",
     "output_type": "stream",
     "text": [
      "\n",
      "[notice] A new release of pip is available: 25.0.1 -> 25.2\n",
      "[notice] To update, run: python.exe -m pip install --upgrade pip\n"
     ]
    }
   ],
   "source": [
    "pip install numpy"
   ]
  },
  {
   "cell_type": "code",
   "execution_count": null,
   "id": "31e89017",
   "metadata": {},
   "outputs": [
    {
     "name": "stdout",
     "output_type": "stream",
     "text": [
      "마크다운 문서를 성공적으로 읽었습니다: ./data/markov.md\n",
      "문서 길이: 15753 문자\n",
      "\n",
      "=== 마크다운 문서 내용 (처음 500자) ===\n",
      "_Science in Context_ **19** (4), 591–600 (2006). Copyright©CCambridge University Press\n",
      "doi:10.1017/S0269889706001074 Printed in the United Kingdom\n",
      "\n",
      "# Classical Text in Translation\n",
      "\n",
      "# An Example of Statistical Investigation of the Text Eugene\n",
      "\n",
      "# Onegin Concerning the Connection of Samples in Chains\n",
      "\n",
      "## A. A. Markov\n",
      "\n",
      "_(Lecture at the physical-mathematical faculty, Royal Academy of Sciences, St. Petersburg, 23 January\n",
      "1913)_^1\n",
      "\n",
      "This study investigates a text excerpt containing 20,000 Russian letter...\n",
      "\n",
      "=== 추출된 순수 텍스트 (처음 500자) ===\n",
      "_Science in Context_ 19 (4), 591–600 (2006). Copyright©CCambridge University Press\n",
      "doi:10.1017/S0269889706001074 Printed in the United Kingdom\n",
      "\n",
      "Classical Text in Translation\n",
      "\n",
      "An Example of Statistical Investigation of the Text Eugene\n",
      "\n",
      "Onegin Concerning the Connection of Samples in Chains\n",
      "\n",
      "A. A. Markov\n",
      "\n",
      "_(Lecture at the physical-mathematical faculty, Royal Academy of Sciences, St. Petersburg, 23 January\n",
      "1913)_\n",
      "\n",
      "This study investigates a text excerpt containing 20,000 Russian letters of the alphab...\n",
      "\n",
      "=== 텍스트 통계 ===\n",
      "전체 문자 수: 12456\n",
      "단어 수: 2151\n",
      "줄 수: 347\n"
     ]
    }
   ],
   "source": [
    "import os\n",
    "import re\n",
    "\n",
    "def read_markov_document(file_path=\"./data/markov.md\"):\n",
    "    \"\"\"\n",
    "    마크다운 문서 markov.md를 읽어오는 함수\n",
    "    \n",
    "    Args:\n",
    "        file_path (str): 마크다운 파일의 경로\n",
    "    \n",
    "    Returns:\n",
    "        str: 마크다운 문서의 전체 내용\n",
    "    \"\"\"\n",
    "    try:\n",
    "        with open(file_path, 'r', encoding='utf-8') as file:\n",
    "            content = file.read()\n",
    "        print(f\"마크다운 문서를 성공적으로 읽었습니다: {file_path}\")\n",
    "        print(f\"문서 길이: {len(content)} 문자\")\n",
    "        return content\n",
    "    except FileNotFoundError:\n",
    "        print(f\"파일을 찾을 수 없습니다: {file_path}\")\n",
    "        return None\n",
    "    except Exception as e:\n",
    "        print(f\"파일을 읽는 중 오류가 발생했습니다: {e}\")\n",
    "        return None\n",
    "\n",
    "def extract_text_content(markdown_content):\n",
    "    \"\"\"\n",
    "    마크다운 문서에서 순수 텍스트만 추출하는 함수\n",
    "    \n",
    "    Args:\n",
    "        markdown_content (str): 마크다운 문서 내용\n",
    "    \n",
    "    Returns:\n",
    "        str: 추출된 순수 텍스트\n",
    "    \"\"\"\n",
    "    if not markdown_content:\n",
    "        return \"\"\n",
    "    \n",
    "    text = re.sub(r'^#{1,6}\\s+', '', markdown_content, flags=re.MULTILINE)\n",
    "    \n",
    "    text = re.sub(r'\\*\\*([^*]+)\\*\\*', r'\\1', text)\n",
    "    text = re.sub(r'\\*([^*]+)\\*', r'\\1', text)\n",
    "    \n",
    "    text = re.sub(r'```[^`]*```', '', text, flags=re.DOTALL)\n",
    "    \n",
    "    text = re.sub(r'`([^`]+)`', r'\\1', text)\n",
    "    \n",
    "    text = re.sub(r'\\[([^\\]]+)\\]\\([^)]+\\)', r'\\1', text)\n",
    "    \n",
    "    text = re.sub(r'\\^[0-9]+', '', text)\n",
    "    \n",
    "    text = re.sub(r'\\n\\s*\\n', '\\n\\n', text)\n",
    "    \n",
    "    return text.strip()\n",
    "\n",
    "def analyze_markov_text():\n",
    "    \"\"\"\n",
    "    마크다운 문서를 읽어서 분석하는 메인 함수\n",
    "    \"\"\"\n",
    "    markdown_content = read_markov_document()\n",
    "    \n",
    "    if markdown_content:\n",
    "        print(\"\\n=== 마크다운 문서 내용 (처음 500자) ===\")\n",
    "        print(markdown_content[:500] + \"...\")\n",
    "        \n",
    "        clean_text = extract_text_content(markdown_content)\n",
    "        \n",
    "        print(\"\\n=== 추출된 순수 텍스트 (처음 500자) ===\")\n",
    "        print(clean_text[:500] + \"...\")\n",
    "        \n",
    "        print(f\"\\n=== 텍스트 통계 ===\")\n",
    "        print(f\"전체 문자 수: {len(clean_text)}\")\n",
    "        print(f\"단어 수: {len(clean_text.split())}\")\n",
    "        print(f\"줄 수: {len(clean_text.split(chr(10)))}\")\n",
    "        \n",
    "        return clean_text\n",
    "    \n",
    "    return None\n",
    "\n",
    "markov_text = analyze_markov_text()"
   ]
  },
  {
   "cell_type": "code",
   "execution_count": 2,
   "id": "a3a63772",
   "metadata": {},
   "outputs": [],
   "source": [
    "import numpy as np\n",
    "import random"
   ]
  },
  {
   "cell_type": "markdown",
   "id": "b6f96301",
   "metadata": {},
   "source": [
    "# 1단계: 실제 데이터의 분산 계산하기\n"
   ]
  },
  {
   "cell_type": "markdown",
   "id": "ac90b071",
   "metadata": {},
   "source": [
    "- 데이터 100개씩 자르기"
   ]
  },
  {
   "cell_type": "code",
   "execution_count": 12,
   "id": "0a81104e",
   "metadata": {},
   "outputs": [
    {
     "name": "stdout",
     "output_type": "stream",
     "text": [
      "125\n",
      "_Science in Context_ 19 (4), 591–600 (2006). Copyright©CCambridge University Press\n",
      "doi:10.1017/S0269\n"
     ]
    }
   ],
   "source": [
    "def split_text_into_chunks(text, chunk_size=100):\n",
    "    \"\"\"\n",
    "    텍스트를 100개씩 잘라서 리스트로 반환하는 함수\n",
    "    \"\"\"\n",
    "    return [text[i:i+chunk_size] for i in range(0, len(text), chunk_size)]\n",
    "\n",
    "# 데이터 100개씩 자르기\n",
    "splitted_text = split_text_into_chunks(markov_text)\n",
    "print(len(splitted_text))\n",
    "print(splitted_text[0])"
   ]
  },
  {
   "cell_type": "markdown",
   "id": "8a5cdb35",
   "metadata": {},
   "source": [
    "- 모음 개수 구하기"
   ]
  },
  {
   "cell_type": "code",
   "execution_count": 17,
   "id": "8534a9c4",
   "metadata": {},
   "outputs": [
    {
     "name": "stdout",
     "output_type": "stream",
     "text": [
      "[18, 27, 33, 28, 26, 29, 29, 29, 33, 25, 17, 26, 24, 27, 26, 26, 30, 28, 28, 33, 29, 22, 32, 27, 30, 29, 29, 31, 29, 16, 18, 24, 25, 20, 27, 25, 24, 26, 30, 26, 27, 28, 29, 26, 35, 31, 22, 32, 29, 33, 31, 34, 29, 27, 24, 28, 25, 31, 26, 18, 34, 27, 27, 30, 28, 29, 23, 31, 22, 24, 31, 22, 31, 24, 20, 31, 25, 30, 32, 27, 34, 31, 29, 21, 33, 14, 30, 31, 31, 35, 30, 35, 29, 29, 32, 32, 31, 30, 31, 31, 34, 28, 33, 31, 27, 26, 31, 29, 28, 30, 28, 26, 35, 24, 37, 30, 27, 29, 30, 24, 32, 24, 27, 32, 13]\n"
     ]
    }
   ],
   "source": [
    "def count_vowels(text):\n",
    "    \"\"\"\n",
    "    텍스트에서 모음 개수 세는 함수\n",
    "    \"\"\"\n",
    "    vowels = 'aeiou'\n",
    "    return sum(1 for char in text if char.lower() in vowels)\n",
    "\n",
    "# count_vowels(splitted_text[0])\n",
    "vowels_counts = []\n",
    "for i in range(len(splitted_text)):\n",
    "    vowels_counts.append(count_vowels(splitted_text[i]))\n",
    "\n",
    "print(vowels_counts)"
   ]
  },
  {
   "cell_type": "markdown",
   "id": "662abdcc",
   "metadata": {},
   "source": [
    "- 평균($\\mu$) 구하기"
   ]
  },
  {
   "cell_type": "code",
   "execution_count": 18,
   "id": "086cc8fe",
   "metadata": {},
   "outputs": [
    {
     "name": "stdout",
     "output_type": "stream",
     "text": [
      "27.904\n"
     ]
    }
   ],
   "source": [
    "def calculate_mean(count_list):\n",
    "    return sum(count_list) / len(count_list)\n",
    "\n",
    "mean_vowels = calculate_mean(vowels_counts)\n",
    "print(mean_vowels)"
   ]
  },
  {
   "cell_type": "markdown",
   "id": "8ca8329c",
   "metadata": {},
   "source": [
    "- 편차 제곱 합 구하기"
   ]
  },
  {
   "cell_type": "code",
   "execution_count": 20,
   "id": "e6688a72",
   "metadata": {},
   "outputs": [
    {
     "name": "stdout",
     "output_type": "stream",
     "text": [
      "2458.848\n"
     ]
    }
   ],
   "source": [
    "def calculate_squared_deviation(count_list, mean):\n",
    "    return sum((count - mean) ** 2 for count in count_list)\n",
    "\n",
    "squared_deviation = calculate_squared_deviation(vowels_counts, mean_vowels)\n",
    "print(squared_deviation)"
   ]
  },
  {
   "cell_type": "markdown",
   "id": "494a9879",
   "metadata": {},
   "source": [
    "- 분산($\\sigma^2$) 구하기"
   ]
  },
  {
   "cell_type": "code",
   "execution_count": 21,
   "id": "264e0f80",
   "metadata": {},
   "outputs": [
    {
     "name": "stdout",
     "output_type": "stream",
     "text": [
      "19.670784\n"
     ]
    }
   ],
   "source": [
    "def calculate_variance(squared_deviation, count_list):\n",
    "    return squared_deviation / len(count_list)\n",
    "\n",
    "variance = calculate_variance(squared_deviation, vowels_counts)\n",
    "print(variance)"
   ]
  },
  {
   "cell_type": "markdown",
   "id": "39172bc5",
   "metadata": {},
   "source": [
    "# 2단계: 이론적 분산과 비교하기\n"
   ]
  },
  {
   "cell_type": "markdown",
   "id": "6f3d2a04",
   "metadata": {},
   "source": [
    "- 이론적 분산 계산"
   ]
  },
  {
   "cell_type": "code",
   "execution_count": 22,
   "id": "71f426e9",
   "metadata": {},
   "outputs": [
    {
     "data": {
      "text/plain": [
       "20.16"
      ]
     },
     "execution_count": 22,
     "metadata": {},
     "output_type": "execute_result"
    }
   ],
   "source": [
    "n = 100\n",
    "p = 0.28\n",
    "\n",
    "n * p * (1 - p)"
   ]
  },
  {
   "cell_type": "markdown",
   "id": "cf44b45c",
   "metadata": {},
   "source": [
    "- 두 분산 비교\n",
    "\n",
    "> 실제 분산: $19.670784$ <br>\n",
    "\n",
    "> 이론적 분산: $20.16$"
   ]
  },
  {
   "cell_type": "markdown",
   "id": "6bd243e9",
   "metadata": {},
   "source": [
    "# 연결성"
   ]
  },
  {
   "cell_type": "markdown",
   "id": "b808156f",
   "metadata": {},
   "source": [
    "- 분산계수 구하기"
   ]
  },
  {
   "cell_type": "code",
   "execution_count": 23,
   "id": "19658fc6",
   "metadata": {},
   "outputs": [
    {
     "data": {
      "text/plain": [
       "0.9757333333333333"
      ]
     },
     "execution_count": 23,
     "metadata": {},
     "output_type": "execute_result"
    }
   ],
   "source": [
    "19.670784 / 20.16"
   ]
  },
  {
   "cell_type": "markdown",
   "id": "ca4bf2e4",
   "metadata": {},
   "source": [
    "# 4단계: ‘단순 연쇄(Simple Chain)’ 모델로 종속성 설명하기"
   ]
  },
  {
   "cell_type": "markdown",
   "id": "532f89c3",
   "metadata": {},
   "source": [
    "- 1. 조건부 확률 계산"
   ]
  },
  {
   "cell_type": "code",
   "execution_count": 30,
   "id": "cbb3fdca",
   "metadata": {},
   "outputs": [
    {
     "name": "stdout",
     "output_type": "stream",
     "text": [
      "0.11764705882352941\n",
      "0.3793103448275862\n"
     ]
    }
   ],
   "source": [
    "def calculate_conditional_probability(text):\n",
    "    count_target = 0\n",
    "    count_target_next = 0\n",
    "    vowels = 'aeiou'\n",
    "\n",
    "    for i in range(len(text)):\n",
    "        if text[i] in vowels:\n",
    "            count_target += 1\n",
    "            if i + 1 < len(text) and text[i+1] in vowels:  # 범위 체크 추가\n",
    "                count_target_next += 1\n",
    "\n",
    "    return count_target_next / count_target\n",
    "\n",
    "def calculate_conditional_probability_consonant(text):\n",
    "    count_target = 0\n",
    "    count_target_next = 0\n",
    "    consonants = 'bcdfghjklmnpqrstvwxyz'\n",
    "    vowels = 'aeiou'\n",
    "\n",
    "    for i in range(len(text)):\n",
    "        if text[i] in consonants:\n",
    "            count_target += 1\n",
    "            if i + 1 < len(text) and text[i+1] in vowels:  # 범위 체크 추가\n",
    "                count_target_next += 1\n",
    "\n",
    "    return count_target_next / count_target\n",
    "\n",
    "print(calculate_conditional_probability(splitted_text[0]))\n",
    "print(calculate_conditional_probability_consonant(splitted_text[0]))"
   ]
  },
  {
   "cell_type": "markdown",
   "id": "69bdba30",
   "metadata": {},
   "source": []
  }
 ],
 "metadata": {
  "kernelspec": {
   "display_name": "Python 3",
   "language": "python",
   "name": "python3"
  },
  "language_info": {
   "codemirror_mode": {
    "name": "ipython",
    "version": 3
   },
   "file_extension": ".py",
   "mimetype": "text/x-python",
   "name": "python",
   "nbconvert_exporter": "python",
   "pygments_lexer": "ipython3",
   "version": "3.12.10"
  }
 },
 "nbformat": 4,
 "nbformat_minor": 5
}
