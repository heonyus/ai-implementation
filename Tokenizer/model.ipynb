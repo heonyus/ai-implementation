{
 "cells": [
  {
   "cell_type": "markdown",
   "id": "3fa8e23c",
   "metadata": {},
   "source": [
    "# BPE(Byte Pair Encoding)\n",
    "\n",
    "- 입력: 문자 단위 코퍼스 (예: `l o w e s t`)\n",
    "\n",
    "- 과정:\n",
    "\n",
    "    1. 문자쌍 빈도를 셈 (예: (\"l\",\"o\"): 3회)\n",
    "\n",
    "    2. 가장 많이 등장한 쌍을 병합 (`lo`)\n",
    "\n",
    "    3. 다시 통계 → 병합 반복\n",
    "\n",
    "- 결과: 점점 긴 subword 단위가 만들어짐 (`low`, `lowest` 등)"
   ]
  },
  {
   "cell_type": "code",
   "execution_count": 1,
   "id": "ac9c44f7",
   "metadata": {},
   "outputs": [
    {
     "data": {
      "text/plain": [
       "['l', 'o', 'w', 'e', 'r']"
      ]
     },
     "execution_count": 1,
     "metadata": {},
     "output_type": "execute_result"
    }
   ],
   "source": [
    "word = \"lower\"\n",
    "\n",
    "chars = list(word)\n",
    "chars"
   ]
  },
  {
   "cell_type": "code",
   "execution_count": 4,
   "id": "3b3947a9",
   "metadata": {},
   "outputs": [
    {
     "data": {
      "text/plain": [
       "'l o w e r'"
      ]
     },
     "execution_count": 4,
     "metadata": {},
     "output_type": "execute_result"
    }
   ],
   "source": [
    "joined = \" \".join(chars)\n",
    "joined"
   ]
  },
  {
   "cell_type": "code",
   "execution_count": 5,
   "id": "7bd9bd4f",
   "metadata": {},
   "outputs": [],
   "source": [
    "from collections import defaultdict"
   ]
  },
  {
   "cell_type": "code",
   "execution_count": 23,
   "id": "58460a64",
   "metadata": {},
   "outputs": [],
   "source": [
    "sentences = [\n",
    "    \"low lower lowest\",\n",
    "    \"newer wider\",\n",
    "    \"low low low\"\n",
    "]"
   ]
  },
  {
   "cell_type": "code",
   "execution_count": null,
   "id": "a8f5c2ed",
   "metadata": {},
   "outputs": [
    {
     "data": {
      "text/plain": [
       "[['l', 'o', 'w', '</w>'],\n",
       " ['l', 'o', 'w', 'e', 'r', '</w>'],\n",
       " ['l', 'o', 'w', 'e', 's', 't', '</w>'],\n",
       " ['n', 'e', 'w', 'e', 'r', '</w>'],\n",
       " ['w', 'i', 'd', 'e', 'r', '</w>'],\n",
       " ['l', 'o', 'w', '</w>'],\n",
       " ['l', 'o', 'w', '</w>'],\n",
       " ['l', 'o', 'w', '</w>']]"
      ]
     },
     "execution_count": 17,
     "metadata": {},
     "output_type": "execute_result"
    }
   ],
   "source": [
    "# 1️⃣ 단어별로 쪼개기 (BPE는 보통 단어 단위로 학습)\n",
    "corpus = []\n",
    "for line in sentences:\n",
    "    for word in line.split():\n",
    "        corpus.append(list(word) + [\"</w>\"])  # 끝 표시(EOW)\n",
    "\n",
    "corpus"
   ]
  },
  {
   "cell_type": "code",
   "execution_count": 31,
   "id": "5f4c8166",
   "metadata": {},
   "outputs": [
    {
     "name": "stdout",
     "output_type": "stream",
     "text": [
      "🔹 단어들을 문자 리스트로 쪼갠 결과:\n",
      "['l', 'o', 'w', '</w>']\n",
      "['l', 'o', 'w', 'e', 'r', '</w>']\n",
      "['l', 'o', 'w', 'e', 's', 't', '</w>']\n",
      "['n', 'e', 'w', 'e', 'r', '</w>']\n",
      "['w', 'i', 'd', 'e', 'r', '</w>']\n",
      "['l', 'o', 'w', '</w>']\n",
      "['l', 'o', 'w', '</w>']\n",
      "['l', 'o', 'w', '</w>']\n"
     ]
    }
   ],
   "source": [
    "print(\"🔹 단어들을 문자 리스트로 쪼갠 결과:\")\n",
    "for w in corpus:\n",
    "    print(w)"
   ]
  },
  {
   "cell_type": "code",
   "execution_count": 34,
   "id": "6de8f634",
   "metadata": {},
   "outputs": [
    {
     "name": "stdout",
     "output_type": "stream",
     "text": [
      "\n",
      "🔹 문자쌍 등장 횟수:\n",
      "('l', 'o'): 6\n",
      "('o', 'w'): 6\n",
      "('w', '</w>'): 4\n",
      "('w', 'e'): 3\n",
      "('e', 'r'): 3\n",
      "('r', '</w>'): 3\n",
      "('e', 's'): 1\n",
      "('s', 't'): 1\n",
      "('t', '</w>'): 1\n",
      "('n', 'e'): 1\n"
     ]
    }
   ],
   "source": [
    "def get_pair_stats(corpus):\n",
    "    pairs = defaultdict(int)\n",
    "    for symbols in corpus:\n",
    "        for a, b in zip(symbols, symbols[1:]):\n",
    "            pairs[(a, b)] += 1\n",
    "    return pairs\n",
    "\n",
    "pairs = get_pair_stats(corpus)\n",
    "\n",
    "print(\"\\n🔹 문자쌍 등장 횟수:\")\n",
    "for p, c in sorted(pairs.items(), key=lambda x: -x[1])[:10]:\n",
    "    print(f\"{p}: {c}\")\n"
   ]
  },
  {
   "cell_type": "code",
   "execution_count": 35,
   "id": "941e1620",
   "metadata": {},
   "outputs": [
    {
     "name": "stdout",
     "output_type": "stream",
     "text": [
      "[1] merge ('l', 'o')\n",
      "   sample: ['lo', 'w', '</w>']\n",
      "[2] merge ('lo', 'w')\n",
      "   sample: ['low', '</w>']\n",
      "[3] merge ('low', '</w>')\n",
      "   sample: ['low</w>']\n",
      "[4] merge ('e', 'r')\n",
      "   sample: ['low</w>']\n",
      "[5] merge ('er', '</w>')\n",
      "   sample: ['low</w>']\n",
      "[6] merge ('low', 'er</w>')\n",
      "   sample: ['low</w>']\n",
      "[7] merge ('low', 'e')\n",
      "   sample: ['low</w>']\n",
      "[8] merge ('lowe', 's')\n",
      "   sample: ['low</w>']\n",
      "[9] merge ('lowes', 't')\n",
      "   sample: ['low</w>']\n",
      "[10] merge ('lowest', '</w>')\n",
      "   sample: ['low</w>']\n"
     ]
    }
   ],
   "source": [
    "from collections import defaultdict\n",
    "\n",
    "# (다시) 문자쌍 빈도\n",
    "def get_pair_stats(corpus):\n",
    "    pairs = defaultdict(int)\n",
    "    for symbols in corpus:                         # symbols: ['l','o','w','</w>'] 같은 리스트\n",
    "        for a, b in zip(symbols, symbols[1:]):     # 인접 쌍만\n",
    "            pairs[(a, b)] += 1\n",
    "    return pairs\n",
    "\n",
    "# ✅ 핵심: 가장 많이 나온 쌍 (A,B)을 한 단어 안에서 모두 \"AB\"로 합쳐주는 함수\n",
    "def merge_once(corpus, pair):\n",
    "    A, B = pair\n",
    "    merged = []\n",
    "    for symbols in corpus:\n",
    "        out = []\n",
    "        i = 0\n",
    "        while i < len(symbols):\n",
    "            # 바로 옆이 (A,B)라면 합쳐서 한 토큰으로 넣고 2칸 전진\n",
    "            if i < len(symbols)-1 and symbols[i] == A and symbols[i+1] == B:\n",
    "                out.append(A + B)\n",
    "                i += 2\n",
    "            else:\n",
    "                out.append(symbols[i])\n",
    "                i += 1\n",
    "        merged.append(out)\n",
    "    return merged\n",
    "\n",
    "# ---- 학습(여러 번 병합) ----\n",
    "# 예시 코퍼스 (앞 단계에서 쓰신 것 그대로면 재사용하셔도 됩니다)\n",
    "sentences = [\n",
    "    \"low lower lowest\",\n",
    "    \"newer wider\",\n",
    "    \"low low low\"\n",
    "]\n",
    "\n",
    "# 단어를 문자 리스트로(끝표시 '</w>' 포함)\n",
    "corpus = []\n",
    "for line in sentences:\n",
    "    for word in line.split():\n",
    "        corpus.append(list(word) + [\"</w>\"])\n",
    "\n",
    "# 병합 규칙을 여기에 저장\n",
    "merges = []\n",
    "\n",
    "# N번 반복하며 가장 빈도 높은 쌍을 계속 병합\n",
    "N = 10\n",
    "for step in range(1, N+1):\n",
    "    stats = get_pair_stats(corpus)\n",
    "    if not stats: \n",
    "        break\n",
    "    best = max(stats.items(), key=lambda x: x[1])[0]   # 가장 많이 나온 쌍\n",
    "    merges.append(best)\n",
    "    corpus = merge_once(corpus, best)\n",
    "    print(f\"[{step}] merge {best}\")\n",
    "    # 참고: 중간 결과 한두 단어만 찍어보기\n",
    "    print(\"   sample:\", corpus[0])\n"
   ]
  },
  {
   "cell_type": "code",
   "execution_count": 36,
   "id": "c23d1c77",
   "metadata": {},
   "outputs": [
    {
     "name": "stdout",
     "output_type": "stream",
     "text": [
      "lower  -> ['lower</w>']\n",
      "lowest -> ['lowest</w>']\n",
      "newest -> ['n', 'e', 'w', 'e', 's', 't']\n"
     ]
    }
   ],
   "source": [
    "def bpe_tokenize(word, merges):\n",
    "    # 단어를 문자 + '</w>'로 시작\n",
    "    symbols = list(word) + [\"</w>\"]\n",
    "    # 학습된 merge 규칙을 순서대로 적용\n",
    "    for A, B in merges:\n",
    "        i = 0\n",
    "        out = []\n",
    "        while i < len(symbols):\n",
    "            if i < len(symbols)-1 and symbols[i] == A and symbols[i+1] == B:\n",
    "                out.append(A + B)\n",
    "                i += 2\n",
    "            else:\n",
    "                out.append(symbols[i])\n",
    "                i += 1\n",
    "        symbols = out\n",
    "    # 마지막 끝표시는 제거\n",
    "    if symbols and symbols[-1] == \"</w>\":\n",
    "        symbols = symbols[:-1]\n",
    "    return symbols\n",
    "\n",
    "# 테스트\n",
    "print(\"lower  ->\", bpe_tokenize(\"lower\", merges))\n",
    "print(\"lowest ->\", bpe_tokenize(\"lowest\", merges))\n",
    "print(\"newest ->\", bpe_tokenize(\"newest\", merges))\n"
   ]
  },
  {
   "cell_type": "code",
   "execution_count": null,
   "id": "b885b225",
   "metadata": {},
   "outputs": [],
   "source": []
  }
 ],
 "metadata": {
  "kernelspec": {
   "display_name": ".venv",
   "language": "python",
   "name": "python3"
  },
  "language_info": {
   "codemirror_mode": {
    "name": "ipython",
    "version": 3
   },
   "file_extension": ".py",
   "mimetype": "text/x-python",
   "name": "python",
   "nbconvert_exporter": "python",
   "pygments_lexer": "ipython3",
   "version": "3.12.10"
  }
 },
 "nbformat": 4,
 "nbformat_minor": 5
}
